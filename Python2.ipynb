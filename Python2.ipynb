{
  "nbformat": 4,
  "nbformat_minor": 0,
  "metadata": {
    "colab": {
      "provenance": [],
      "authorship_tag": "ABX9TyN4riPYK3+qfXEl4bxVVJ7B",
      "include_colab_link": true
    },
    "kernelspec": {
      "name": "python3",
      "display_name": "Python 3"
    },
    "language_info": {
      "name": "python"
    }
  },
  "cells": [
    {
      "cell_type": "markdown",
      "metadata": {
        "id": "view-in-github",
        "colab_type": "text"
      },
      "source": [
        "<a href=\"https://colab.research.google.com/github/NataliaWrzesinska/Python2/blob/main/Python2.ipynb\" target=\"_parent\"><img src=\"https://colab.research.google.com/assets/colab-badge.svg\" alt=\"Open In Colab\"/></a>"
      ]
    },
    {
      "cell_type": "code",
      "execution_count": null,
      "metadata": {
        "colab": {
          "base_uri": "https://localhost:8080/"
        },
        "id": "xgwtCa5L_rJB",
        "outputId": "8d71cfb1-511f-4db0-914d-7ea7f1d80a1b"
      },
      "outputs": [
        {
          "output_type": "stream",
          "name": "stdout",
          "text": [
            "1626.0162601626016\n"
          ]
        }
      ],
      "source": [
        "VAT = 23\n",
        "cenaBrutto = 1000\n",
        "cenaBrutto2 = 2000\n",
        "\n",
        "obliczonyVAT = 1 + VAT/100\n",
        "\n",
        "cenaNetto = cenaBrutto/obliczonyVAT\n",
        "cenaNetto2 = cenaBrutto2/obliczonyVAT\n",
        "\n",
        "print(cenaNetto2)"
      ]
    },
    {
      "cell_type": "code",
      "source": [
        "x = 5\n",
        "x += 3\n",
        "print(x)"
      ],
      "metadata": {
        "colab": {
          "base_uri": "https://localhost:8080/"
        },
        "id": "Kpt_9IVtAxVB",
        "outputId": "e5c1bfcc-0900-4079-e668-e7c4da951613"
      },
      "execution_count": null,
      "outputs": [
        {
          "output_type": "stream",
          "name": "stdout",
          "text": [
            "8\n"
          ]
        }
      ]
    },
    {
      "cell_type": "code",
      "source": [
        "imie = 'Natalia'\n",
        "nazwisko = 'Wrzesinska'\n",
        "imieInazwisko = imie + \" \" + nazwisko\n",
        "print(imieInazwisko)"
      ],
      "metadata": {
        "colab": {
          "base_uri": "https://localhost:8080/"
        },
        "id": "MjgC2v_gBPC7",
        "outputId": "2a37c589-fc5c-4515-9a87-48bb178c54ed"
      },
      "execution_count": null,
      "outputs": [
        {
          "output_type": "stream",
          "name": "stdout",
          "text": [
            "Natalia Wrzesinska\n"
          ]
        }
      ]
    },
    {
      "cell_type": "code",
      "source": [
        "imie = \"Natalia\"\n",
        "\n",
        "if len(imie) > 5:\n",
        "  print(imie[-1])"
      ],
      "metadata": {
        "colab": {
          "base_uri": "https://localhost:8080/"
        },
        "id": "0Yvya3lvBktT",
        "outputId": "36ea3730-a157-47da-a881-8cbcbac54f62"
      },
      "execution_count": null,
      "outputs": [
        {
          "output_type": "stream",
          "name": "stdout",
          "text": [
            "a\n"
          ]
        }
      ]
    },
    {
      "cell_type": "code",
      "source": [
        "from math import sqrt\n",
        "number = int(input(\"Podaj liczbę:\"))\n",
        "\n",
        "if number % 2 == 0:\n",
        "  print(sqrt(number))"
      ],
      "metadata": {
        "colab": {
          "base_uri": "https://localhost:8080/"
        },
        "id": "-2VFsxTfBxOy",
        "outputId": "aed8962a-57c3-4fea-f135-10ed42842123"
      },
      "execution_count": null,
      "outputs": [
        {
          "output_type": "stream",
          "name": "stdout",
          "text": [
            "Podaj liczbę:0\n",
            "0.0\n"
          ]
        }
      ]
    },
    {
      "cell_type": "code",
      "source": [
        "imie = (input(\"Podaj imię: \"))\n",
        "\n",
        "if len(imie) > 6:\n",
        "    x = imie.upper()\n",
        "else:\n",
        "    x = imie.capitalize()\n",
        "print(x)"
      ],
      "metadata": {
        "colab": {
          "base_uri": "https://localhost:8080/"
        },
        "id": "uSZ6nzTzCO8y",
        "outputId": "8b70f240-79f3-446a-b3fb-d9f999efad8c"
      },
      "execution_count": null,
      "outputs": [
        {
          "output_type": "stream",
          "name": "stdout",
          "text": [
            "Podaj imię: emil\n",
            "Emil\n"
          ]
        }
      ]
    },
    {
      "cell_type": "code",
      "source": [
        "a = int(input(\"Podaj liczbę:\"))\n",
        "b = int(input(\"Podaj liczbę:\"))\n",
        "\n",
        "print(\"Wynik to:\", a + b)"
      ],
      "metadata": {
        "colab": {
          "base_uri": "https://localhost:8080/"
        },
        "id": "wCF5YOqxDn7f",
        "outputId": "b35312f1-14a8-4eea-e8d9-464acbbd3eaa"
      },
      "execution_count": null,
      "outputs": [
        {
          "output_type": "stream",
          "name": "stdout",
          "text": [
            "Podaj liczbę:3\n",
            "Podaj liczbę:5\n",
            "Wynik to: 8\n"
          ]
        }
      ]
    },
    {
      "cell_type": "code",
      "source": [
        "5 > 4"
      ],
      "metadata": {
        "colab": {
          "base_uri": "https://localhost:8080/"
        },
        "id": "4zKWOUKAEb2m",
        "outputId": "6519a576-9bab-4124-9dab-590c9c48ec87"
      },
      "execution_count": null,
      "outputs": [
        {
          "output_type": "execute_result",
          "data": {
            "text/plain": [
              "True"
            ]
          },
          "metadata": {},
          "execution_count": 22
        }
      ]
    },
    {
      "cell_type": "code",
      "source": [
        "wybor = input(\"Co chcesz zrobić? + dodawanie, - odejmowanie, * mnożenie, / dzielenie, end - koniec: \")\n",
        "\n",
        "while wybor != 'end':\n",
        "    a = int(input(\"Podaj pierwszą liczbę: \"))\n",
        "    b = int(input(\"Podaj drugą liczbę: \"))\n",
        "\n",
        "    if wybor == \"+\":\n",
        "        print(a + b)\n",
        "    elif wybor == \"-\":\n",
        "        print(a - b)\n",
        "    elif wybor == \"*\":\n",
        "        print(a * b)\n",
        "    elif wybor == \"/\":\n",
        "        if b != 0:\n",
        "            print(a / b)\n",
        "        else:\n",
        "            print(\"Nie można dzielić przez zero!\")\n",
        "    else:\n",
        "        print(\"Tak się nie bawimy!\")\n",
        "\n",
        "    wybor = input(\"Co chcesz zrobić? + dodawanie, - odejmowanie, * mnożenie, / dzielenie, end - koniec: \")\n",
        "\n",
        "print(\"Koniec programu.\")\n",
        "\n"
      ],
      "metadata": {
        "colab": {
          "base_uri": "https://localhost:8080/"
        },
        "id": "T0YfBR_0Ev48",
        "outputId": "41c2e372-291d-4071-aa78-984aee5b26e2"
      },
      "execution_count": null,
      "outputs": [
        {
          "output_type": "stream",
          "name": "stdout",
          "text": [
            "Co chcesz zrobić? + dodawanie, - odejmowanie, * mnożenie, / dzielenie, end - koniec: -\n",
            "Podaj pierwszą liczbę: 20\n",
            "Podaj drugą liczbę: 10\n",
            "10\n",
            "Co chcesz zrobić? + dodawanie, - odejmowanie, * mnożenie, / dzielenie, end - koniec: end\n",
            "Koniec programu.\n"
          ]
        }
      ]
    },
    {
      "cell_type": "code",
      "source": [
        "add = lambda x, y: x + y\n",
        "result = add(5, 4)\n",
        "print(result)"
      ],
      "metadata": {
        "id": "iy-cpcApFZ31",
        "colab": {
          "base_uri": "https://localhost:8080/"
        },
        "outputId": "43bee409-c4f9-455f-c6f7-4cda4c724fd5"
      },
      "execution_count": 2,
      "outputs": [
        {
          "output_type": "stream",
          "name": "stdout",
          "text": [
            "9\n"
          ]
        }
      ]
    },
    {
      "cell_type": "code",
      "source": [
        "wynik = 0\n",
        "\n",
        "for i in range(4):\n",
        "  x = int(input(\"Podaj liczbę:\"))\n",
        "  wynik += x\n",
        "\n",
        "print(\"Wynik\", wynik)"
      ],
      "metadata": {
        "colab": {
          "base_uri": "https://localhost:8080/"
        },
        "id": "l8JqdpCm8Sz4",
        "outputId": "e7e1b328-87c9-426f-aa03-67cd6756d11f"
      },
      "execution_count": 3,
      "outputs": [
        {
          "output_type": "stream",
          "name": "stdout",
          "text": [
            "Podaj liczbę:1\n",
            "Podaj liczbę:2\n",
            "Podaj liczbę:3\n",
            "Podaj liczbę:4\n",
            "Wynik 10\n"
          ]
        }
      ]
    },
    {
      "cell_type": "code",
      "source": [
        "wynik = 0\n",
        "\n",
        "for i in range(5):\n",
        "  x = int(input(\"Podaj liczbę:\"))\n",
        "  wynik -= x\n",
        "\n",
        "print(\"Wynik\", wynik)"
      ],
      "metadata": {
        "colab": {
          "base_uri": "https://localhost:8080/"
        },
        "id": "S39uFZs089VP",
        "outputId": "cef0607e-9ad2-47f7-a40a-121883343ff9"
      },
      "execution_count": 4,
      "outputs": [
        {
          "output_type": "stream",
          "name": "stdout",
          "text": [
            "Podaj liczbę:1\n",
            "Podaj liczbę:1\n",
            "Podaj liczbę:1\n",
            "Podaj liczbę:1\n",
            "Podaj liczbę:1\n",
            "Wynik -5\n"
          ]
        }
      ]
    },
    {
      "cell_type": "code",
      "source": [
        "szukanaLiczba = 58\n",
        "zgadywanaLiczba = 0\n",
        "\n",
        "while zgadywanaLiczba != szukanaLiczba:\n",
        "  zgadywanaLiczba = int(input(\"podaj szukaną liczbę:\"))\n",
        "\n",
        "  if zgadywanaLiczba == szukanaLiczba:\n",
        "    print(\"Brawo\")\n",
        "  else:\n",
        "    print(\"Spróbuj jeszcze raz\")"
      ],
      "metadata": {
        "colab": {
          "base_uri": "https://localhost:8080/"
        },
        "id": "KggOLQWM9qoK",
        "outputId": "6ea80850-b961-4f60-9ce7-a839d1a06620"
      },
      "execution_count": 5,
      "outputs": [
        {
          "output_type": "stream",
          "name": "stdout",
          "text": [
            "podaj szukaną liczbę:2\n",
            "Spróbuj jeszcze raz\n",
            "podaj szukaną liczbę:5\n",
            "Spróbuj jeszcze raz\n",
            "podaj szukaną liczbę:58\n",
            "Brawo\n"
          ]
        }
      ]
    },
    {
      "cell_type": "code",
      "source": [
        "liczby = [1, 2, 3, 4, 5]\n",
        "\n",
        "print(liczby)\n",
        "len(liczby)\n",
        "print(liczby[1:3])\n",
        "liczby.append(6)\n",
        "print(liczby)\n",
        "liczby.extend([7, 8, 9])\n",
        "print(liczby)\n",
        "print(2 in liczby)\n",
        "liczby.insert(0, 0)\n",
        "print(liczby)\n",
        "print(liczby.index(3))\n",
        "liczby.sort(reverse = True)\n",
        "print(liczby)\n",
        "print(max(liczby))\n",
        "liczby.pop()\n",
        "print(liczby)"
      ],
      "metadata": {
        "colab": {
          "base_uri": "https://localhost:8080/"
        },
        "id": "N_sUPE8O_NDy",
        "outputId": "0d873ed8-ce8b-495f-a911-0f6f5c093967"
      },
      "execution_count": 20,
      "outputs": [
        {
          "output_type": "stream",
          "name": "stdout",
          "text": [
            "[1, 2, 3, 4, 5]\n",
            "[2, 3]\n",
            "[1, 2, 3, 4, 5, 6]\n",
            "[1, 2, 3, 4, 5, 6, 7, 8, 9]\n",
            "True\n",
            "[0, 1, 2, 3, 4, 5, 6, 7, 8, 9]\n",
            "3\n",
            "[9, 8, 7, 6, 5, 4, 3, 2, 1, 0]\n",
            "9\n",
            "[9, 8, 7, 6, 5, 4, 3, 2, 1]\n"
          ]
        }
      ]
    },
    {
      "cell_type": "code",
      "source": [
        "kolory = {'a': \"zielony\", 'b': \"czerwony\", 'c': \"niebieski\"}\n",
        "kolory['a'] = \"fioletowy\"\n",
        "print(kolory)\n",
        "kolory.popitem()"
      ],
      "metadata": {
        "colab": {
          "base_uri": "https://localhost:8080/"
        },
        "id": "rCArXatLBH7f",
        "outputId": "2225037f-21cd-407c-db4b-a6616d13cc35"
      },
      "execution_count": 24,
      "outputs": [
        {
          "output_type": "stream",
          "name": "stdout",
          "text": [
            "{'a': 'fioletowy', 'b': 'czerwony', 'c': 'niebieski'}\n"
          ]
        },
        {
          "output_type": "execute_result",
          "data": {
            "text/plain": [
              "('c', 'niebieski')"
            ]
          },
          "metadata": {},
          "execution_count": 24
        }
      ]
    },
    {
      "cell_type": "code",
      "source": [
        "listaGosci = [\n",
        "    (\"Nati\", 29, \"Wroclaw\"),\n",
        "    (\"Emil\", 30, \"Wroclaw\"),\n",
        "    (\"Aga\", 23, \"Aleksandrow\")\n",
        "]\n",
        "\n",
        "for imie, wiek, miasto in listaGosci:\n",
        "  print(\"Hej\", imie)\n",
        "  print(\"Wiek:\", wiek)\n",
        "  print(\"Miasto:\", miasto)\n",
        "  print(\"\\n\")"
      ],
      "metadata": {
        "colab": {
          "base_uri": "https://localhost:8080/"
        },
        "id": "uuA6iqRoFWww",
        "outputId": "30116aab-87c1-4f41-818f-14f5efba4236"
      },
      "execution_count": 28,
      "outputs": [
        {
          "output_type": "stream",
          "name": "stdout",
          "text": [
            "Hej Nati\n",
            "Wiek: 29\n",
            "Miasto: Wroclaw\n",
            "\n",
            "\n",
            "Hej Emil\n",
            "Wiek: 30\n",
            "Miasto: Wroclaw\n",
            "\n",
            "\n",
            "Hej Aga\n",
            "Wiek: 23\n",
            "Miasto: Aleksandrow\n",
            "\n",
            "\n"
          ]
        }
      ]
    },
    {
      "cell_type": "code",
      "source": [
        "definicje = {}\n",
        "\n",
        "while(True):\n",
        "    print(\"1: Dodaj definicję\")\n",
        "    print(\"2: Znajdź definicję\")\n",
        "    print(\"3: Usuń definicję\")\n",
        "    print(\"4: Zakończ program\")\n",
        "\n",
        "    wybor = (input(\"Co chcesz zrobic?\"))\n",
        "\n",
        "    if (wybor == \"1\"):\n",
        "        klucz = input(\"Podaj klucz:\")\n",
        "        definicja = input(\"Podaj definicję:\")\n",
        "        definicje[klucz] = definicja\n",
        "        print(\"Definicja dodana pomyślnie\")\n",
        "    elif (wybor == \"2\"):\n",
        "        klucz = input(\"Jakiej definicji szukasz?\")\n",
        "        if klucz in definicje:\n",
        "          print(definicje[klucz])\n",
        "        else:\n",
        "          print(\"Nie znaleziono klucza\", klucz)\n",
        "    elif (wybor == \"3\"):\n",
        "        klucz = input(\"Co chcesz usunąć?\")\n",
        "        if klucz in definicje:\n",
        "          del definicje[klucz]\n",
        "          print(\"Usunięto definicję\", klucz)\n",
        "    elif (wybor == '4'):\n",
        "        print(\"No to pa\")\n",
        "        break\n",
        "    else:\n",
        "      print(\"Podałeś coś spoza zakresu\")\n"
      ],
      "metadata": {
        "colab": {
          "base_uri": "https://localhost:8080/"
        },
        "id": "aSG7QHwwPwrc",
        "outputId": "5380240e-4654-4c81-a321-3bc22736f6ac"
      },
      "execution_count": 31,
      "outputs": [
        {
          "output_type": "stream",
          "name": "stdout",
          "text": [
            "1: Dodaj definicję\n",
            "2: Znajdź definicję\n",
            "3: Usuń definicję\n",
            "4: Zakończ program\n",
            "Co chcesz zrobic?la\n",
            "Podałeś coś spoza zakresu\n",
            "1: Dodaj definicję\n",
            "2: Znajdź definicję\n",
            "3: Usuń definicję\n",
            "4: Zakończ program\n",
            "Co chcesz zrobic?lala\n",
            "Podałeś coś spoza zakresu\n",
            "1: Dodaj definicję\n",
            "2: Znajdź definicję\n",
            "3: Usuń definicję\n",
            "4: Zakończ program\n",
            "Co chcesz zrobic?1\n",
            "Podaj klucz:la\n",
            "Podaj definicję:lalala\n",
            "Definicja dodana pomyślnie\n",
            "1: Dodaj definicję\n",
            "2: Znajdź definicję\n",
            "3: Usuń definicję\n",
            "4: Zakończ program\n",
            "Co chcesz zrobic?2\n",
            "Jakiej definicji szukasz?la\n",
            "lalala\n",
            "1: Dodaj definicję\n",
            "2: Znajdź definicję\n",
            "3: Usuń definicję\n",
            "4: Zakończ program\n",
            "Co chcesz zrobic?3\n",
            "Co chcesz usunąć?la\n",
            "Usunięto definicję la\n",
            "1: Dodaj definicję\n",
            "2: Znajdź definicję\n",
            "3: Usuń definicję\n",
            "4: Zakończ program\n",
            "Co chcesz zrobic?4\n",
            "No to pa\n"
          ]
        }
      ]
    },
    {
      "cell_type": "code",
      "source": [
        "liczby = [1, 2, 3, 4, 5, 6]\n",
        "\n",
        "potegiLiczby = [liczba ** 2\n",
        "    for liczba in liczby]\n",
        "\n",
        "print(potegiLiczby)"
      ],
      "metadata": {
        "colab": {
          "base_uri": "https://localhost:8080/"
        },
        "id": "HmmpIqzGUVzN",
        "outputId": "df306578-fd64-492f-c9e2-d7d31288b633"
      },
      "execution_count": 34,
      "outputs": [
        {
          "output_type": "stream",
          "name": "stdout",
          "text": [
            "[1, 4, 9, 16, 25, 36]\n"
          ]
        }
      ]
    },
    {
      "cell_type": "code",
      "source": [
        "names = {\"Natalia\", \"Emil\", \"Agnieszka\", \"Anna\", \"Michał\"}\n",
        "\n",
        "namesLength = {\n",
        "    name : len(name)\n",
        "    for name in names\n",
        "}\n",
        "\n",
        "print(namesLength)"
      ],
      "metadata": {
        "colab": {
          "base_uri": "https://localhost:8080/"
        },
        "id": "VZhELwJSVMWz",
        "outputId": "9e8b3009-7aac-4b33-d724-6ce3402b1589"
      },
      "execution_count": 35,
      "outputs": [
        {
          "output_type": "stream",
          "name": "stdout",
          "text": [
            "{'Natalia': 7, 'Michał': 6, 'Emil': 4, 'Anna': 4, 'Agnieszka': 9}\n"
          ]
        }
      ]
    },
    {
      "cell_type": "code",
      "source": [],
      "metadata": {
        "id": "zx9GEN7EWG8J"
      },
      "execution_count": null,
      "outputs": []
    }
  ]
}