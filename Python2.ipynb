{
  "nbformat": 4,
  "nbformat_minor": 0,
  "metadata": {
    "colab": {
      "provenance": [],
      "authorship_tag": "ABX9TyNAvCO8GgTSq6JswY4/A72O",
      "include_colab_link": true
    },
    "kernelspec": {
      "name": "python3",
      "display_name": "Python 3"
    },
    "language_info": {
      "name": "python"
    }
  },
  "cells": [
    {
      "cell_type": "markdown",
      "metadata": {
        "id": "view-in-github",
        "colab_type": "text"
      },
      "source": [
        "<a href=\"https://colab.research.google.com/github/NataliaWrzesinska/Python2/blob/main/Python2.ipynb\" target=\"_parent\"><img src=\"https://colab.research.google.com/assets/colab-badge.svg\" alt=\"Open In Colab\"/></a>"
      ]
    },
    {
      "cell_type": "code",
      "execution_count": null,
      "metadata": {
        "colab": {
          "base_uri": "https://localhost:8080/"
        },
        "id": "xgwtCa5L_rJB",
        "outputId": "8d71cfb1-511f-4db0-914d-7ea7f1d80a1b"
      },
      "outputs": [
        {
          "output_type": "stream",
          "name": "stdout",
          "text": [
            "1626.0162601626016\n"
          ]
        }
      ],
      "source": [
        "VAT = 23\n",
        "cenaBrutto = 1000\n",
        "cenaBrutto2 = 2000\n",
        "\n",
        "obliczonyVAT = 1 + VAT/100\n",
        "\n",
        "cenaNetto = cenaBrutto/obliczonyVAT\n",
        "cenaNetto2 = cenaBrutto2/obliczonyVAT\n",
        "\n",
        "print(cenaNetto2)"
      ]
    },
    {
      "cell_type": "code",
      "source": [
        "x = 5\n",
        "x += 3\n",
        "print(x)"
      ],
      "metadata": {
        "colab": {
          "base_uri": "https://localhost:8080/"
        },
        "id": "Kpt_9IVtAxVB",
        "outputId": "e5c1bfcc-0900-4079-e668-e7c4da951613"
      },
      "execution_count": null,
      "outputs": [
        {
          "output_type": "stream",
          "name": "stdout",
          "text": [
            "8\n"
          ]
        }
      ]
    },
    {
      "cell_type": "code",
      "source": [
        "imie = 'Natalia'\n",
        "nazwisko = 'Wrzesinska'\n",
        "imieInazwisko = imie + \" \" + nazwisko\n",
        "print(imieInazwisko)"
      ],
      "metadata": {
        "colab": {
          "base_uri": "https://localhost:8080/"
        },
        "id": "MjgC2v_gBPC7",
        "outputId": "2a37c589-fc5c-4515-9a87-48bb178c54ed"
      },
      "execution_count": null,
      "outputs": [
        {
          "output_type": "stream",
          "name": "stdout",
          "text": [
            "Natalia Wrzesinska\n"
          ]
        }
      ]
    },
    {
      "cell_type": "code",
      "source": [
        "imie = \"Natalia\"\n",
        "\n",
        "if len(imie) > 5:\n",
        "  print(imie[-1])"
      ],
      "metadata": {
        "colab": {
          "base_uri": "https://localhost:8080/"
        },
        "id": "0Yvya3lvBktT",
        "outputId": "36ea3730-a157-47da-a881-8cbcbac54f62"
      },
      "execution_count": null,
      "outputs": [
        {
          "output_type": "stream",
          "name": "stdout",
          "text": [
            "a\n"
          ]
        }
      ]
    },
    {
      "cell_type": "code",
      "source": [
        "from math import sqrt\n",
        "number = int(input(\"Podaj liczbę:\"))\n",
        "\n",
        "if number % 2 == 0:\n",
        "  print(sqrt(number))"
      ],
      "metadata": {
        "colab": {
          "base_uri": "https://localhost:8080/"
        },
        "id": "-2VFsxTfBxOy",
        "outputId": "aed8962a-57c3-4fea-f135-10ed42842123"
      },
      "execution_count": null,
      "outputs": [
        {
          "output_type": "stream",
          "name": "stdout",
          "text": [
            "Podaj liczbę:0\n",
            "0.0\n"
          ]
        }
      ]
    },
    {
      "cell_type": "code",
      "source": [
        "imie = (input(\"Podaj imię: \"))\n",
        "\n",
        "if len(imie) > 6:\n",
        "    x = imie.upper()\n",
        "else:\n",
        "    x = imie.capitalize()\n",
        "print(x)"
      ],
      "metadata": {
        "colab": {
          "base_uri": "https://localhost:8080/"
        },
        "id": "uSZ6nzTzCO8y",
        "outputId": "8b70f240-79f3-446a-b3fb-d9f999efad8c"
      },
      "execution_count": null,
      "outputs": [
        {
          "output_type": "stream",
          "name": "stdout",
          "text": [
            "Podaj imię: emil\n",
            "Emil\n"
          ]
        }
      ]
    },
    {
      "cell_type": "code",
      "source": [
        "a = int(input(\"Podaj liczbę:\"))\n",
        "b = int(input(\"Podaj liczbę:\"))\n",
        "\n",
        "print(\"Wynik to:\", a + b)"
      ],
      "metadata": {
        "colab": {
          "base_uri": "https://localhost:8080/"
        },
        "id": "wCF5YOqxDn7f",
        "outputId": "b35312f1-14a8-4eea-e8d9-464acbbd3eaa"
      },
      "execution_count": null,
      "outputs": [
        {
          "output_type": "stream",
          "name": "stdout",
          "text": [
            "Podaj liczbę:3\n",
            "Podaj liczbę:5\n",
            "Wynik to: 8\n"
          ]
        }
      ]
    },
    {
      "cell_type": "code",
      "source": [
        "5 > 4"
      ],
      "metadata": {
        "colab": {
          "base_uri": "https://localhost:8080/"
        },
        "id": "4zKWOUKAEb2m",
        "outputId": "6519a576-9bab-4124-9dab-590c9c48ec87"
      },
      "execution_count": null,
      "outputs": [
        {
          "output_type": "execute_result",
          "data": {
            "text/plain": [
              "True"
            ]
          },
          "metadata": {},
          "execution_count": 22
        }
      ]
    },
    {
      "cell_type": "code",
      "source": [
        "wybor = input(\"Co chcesz zrobić? + dodawanie, - odejmowanie, * mnożenie, / dzielenie, end - koniec: \")\n",
        "\n",
        "while wybor != 'end':\n",
        "    a = int(input(\"Podaj pierwszą liczbę: \"))\n",
        "    b = int(input(\"Podaj drugą liczbę: \"))\n",
        "\n",
        "    if wybor == \"+\":\n",
        "        print(a + b)\n",
        "    elif wybor == \"-\":\n",
        "        print(a - b)\n",
        "    elif wybor == \"*\":\n",
        "        print(a * b)\n",
        "    elif wybor == \"/\":\n",
        "        if b != 0:\n",
        "            print(a / b)\n",
        "        else:\n",
        "            print(\"Nie można dzielić przez zero!\")\n",
        "    else:\n",
        "        print(\"Tak się nie bawimy!\")\n",
        "\n",
        "    wybor = input(\"Co chcesz zrobić? + dodawanie, - odejmowanie, * mnożenie, / dzielenie, end - koniec: \")\n",
        "\n",
        "print(\"Koniec programu.\")\n",
        "\n"
      ],
      "metadata": {
        "colab": {
          "base_uri": "https://localhost:8080/"
        },
        "id": "T0YfBR_0Ev48",
        "outputId": "41c2e372-291d-4071-aa78-984aee5b26e2"
      },
      "execution_count": null,
      "outputs": [
        {
          "output_type": "stream",
          "name": "stdout",
          "text": [
            "Co chcesz zrobić? + dodawanie, - odejmowanie, * mnożenie, / dzielenie, end - koniec: -\n",
            "Podaj pierwszą liczbę: 20\n",
            "Podaj drugą liczbę: 10\n",
            "10\n",
            "Co chcesz zrobić? + dodawanie, - odejmowanie, * mnożenie, / dzielenie, end - koniec: end\n",
            "Koniec programu.\n"
          ]
        }
      ]
    },
    {
      "cell_type": "code",
      "source": [
        "add = lambda x, y: x + y\n",
        "result = add(5, 4)\n",
        "print(result)"
      ],
      "metadata": {
        "id": "iy-cpcApFZ31",
        "colab": {
          "base_uri": "https://localhost:8080/"
        },
        "outputId": "43bee409-c4f9-455f-c6f7-4cda4c724fd5"
      },
      "execution_count": 2,
      "outputs": [
        {
          "output_type": "stream",
          "name": "stdout",
          "text": [
            "9\n"
          ]
        }
      ]
    },
    {
      "cell_type": "code",
      "source": [],
      "metadata": {
        "id": "l8JqdpCm8Sz4"
      },
      "execution_count": null,
      "outputs": []
    }
  ]
}